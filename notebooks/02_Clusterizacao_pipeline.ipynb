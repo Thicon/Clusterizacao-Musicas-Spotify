{
 "cells": [
  {
   "cell_type": "markdown",
   "metadata": {},
   "source": [
    "### **1. Importando as bibliotecas e bases de dados**"
   ]
  },
  {
   "cell_type": "code",
   "execution_count": 1,
   "metadata": {},
   "outputs": [],
   "source": [
    "# Importando as bibliotecas\n",
    "import sys\n",
    "import pandas as pd                        \n",
    "import numpy as np                             \n",
    "import seaborn as sns                                 \n",
    "import matplotlib.pyplot as plt   \n",
    "from wordcloud import WordCloud\n",
    "               \n",
    "from sklearn.cluster import KMeans    \n",
    "from sklearn.preprocessing import MinMaxScaler, FunctionTransformer\n",
    "from sklearn.model_selection import train_test_split\n",
    "from sklearn.decomposition import PCA  \n",
    "from sklearn.pipeline import Pipeline\n",
    "from sklearn.compose import ColumnTransformer"
   ]
  },
  {
   "cell_type": "markdown",
   "metadata": {},
   "source": [
    "- Importando a base original"
   ]
  },
  {
   "cell_type": "code",
   "execution_count": null,
   "metadata": {},
   "outputs": [],
   "source": [
    "base_original = pd.read_csv(\"../data/data.csv\")"
   ]
  },
  {
   "cell_type": "markdown",
   "metadata": {},
   "source": [
    "#### **Explicações das etapas seguintes:**\n",
    "\n",
    "- Separando a base em treino e teste, para simular a entrada de dados\n",
    "- Criando um modelo KMeans de 5 clusters\n",
    "- Criando um PCA de 1 componente para as colunas: acousticness, energy e loudness, que estão alto correlacionadas. Isso em uma base que tenha muitas features pode ser importante na redução de dimensionalidade.\n",
    "- Instanciando normalizadores para padronizar a escala das colunas em 0 e 1"
   ]
  },
  {
   "cell_type": "code",
   "execution_count": null,
   "metadata": {},
   "outputs": [],
   "source": [
    "xtreino, xteste = train_test_split(base_original, test_size=0.10, random_state=10)\n",
    "\n",
    "kmeans1 = KMeans(n_clusters=5, \n",
    "                init='k-means++', \n",
    "                n_init=50,\n",
    "                max_iter=300,\n",
    "                tol = 1e-4,\n",
    "                random_state=0\n",
    "                )\n",
    "\n",
    "pca_acou_ener_loud = PCA(n_components=1)\n",
    "\n",
    "minmax_year = MinMaxScaler()\n",
    "minmax_tempo = MinMaxScaler()\n",
    "minmax_pca = MinMaxScaler()\n",
    "minmax_loudness = MinMaxScaler()\n",
    "\n",
    "def selecao_colunas(base):\n",
    "    base = base[['year','tempo','acousticness','danceability','energy','instrumentalness','liveness','loudness','speechiness','valence']]\n",
    "    return base"
   ]
  },
  {
   "cell_type": "code",
   "execution_count": null,
   "metadata": {},
   "outputs": [],
   "source": [
    "def selecao_colunas(base):\n",
    "    base = base[['year','tempo','acousticness','danceability','energy','instrumentalness','liveness','loudness','speechiness','valence']]\n",
    "    return base\n",
    "\n",
    "def transformar(base):\n",
    "    return pd.DataFrame(base)\n",
    "\n",
    "def selecao_colunas(base):\n",
    "    base = base[['duration_ms','tempo','acousticness','danceability','energy','instrumentalness','liveness','loudness','speechiness','valence']]\n",
    "    return base\n",
    "\n",
    "def retornar_cluster(resultadokmeans):\n",
    "    if isinstance(resultadokmeans, pd.DataFrame):\n",
    "        return pd.DataFrame(resultadokmeans.idxmin(axis=1), columns=['Cluster'])\n",
    "    elif isinstance(resultadokmeans, np.ndarray):\n",
    "        return pd.DataFrame(np.argmin(resultadokmeans, axis=1), columns=['Cluster'])"
   ]
  },
  {
   "cell_type": "code",
   "execution_count": null,
   "metadata": {},
   "outputs": [],
   "source": [
    "pipeline_preprocessamento = Pipeline([\n",
    "    (\"selecao_colunas\", FunctionTransformer(selecao_colunas)),\n",
    "     \n",
    "    (\"escala_colunas\", ColumnTransformer(\n",
    "        transformers=[\n",
    "            (\"minmax_duration_ms\", MinMaxScaler(), [\"duration_ms\"]),\n",
    "            (\"minmax_tempo\", MinMaxScaler(), [\"tempo\"]),\n",
    "            (\"minmax_loudness\", MinMaxScaler(), [\"loudness\"]),  \n",
    "        ], remainder='passthrough')),\n",
    "    \n",
    "    (\"pca\", ColumnTransformer(\n",
    "        transformers=[\n",
    "            (\"pca\", PCA(n_components=1), [3, 5]),\n",
    "        ], remainder='passthrough')),\n",
    "    \n",
    "    (\"escala_pca\", ColumnTransformer(\n",
    "        transformers=[\n",
    "            (\"minmax_pca\", MinMaxScaler(), [0]),  \n",
    "        ], remainder='passthrough')),\n",
    "    ])\n",
    "\n",
    "\n",
    "pipeline_modelo = Pipeline([\n",
    "        (\"clusterizacao\", KMeans(n_clusters=5, \n",
    "                init='k-means++', \n",
    "                n_init=50,\n",
    "                max_iter=500,\n",
    "                tol = 1e-4,\n",
    "                random_state=0\n",
    "                )),\n",
    "])\n",
    "\n",
    "pipeline_completo = Pipeline([\n",
    "        (\"preprocessamento\", pipeline_preprocessamento),\n",
    "        (\"modelo\",pipeline_modelo),\n",
    "    ])\n",
    "\n",
    "a = pd.DataFrame(pipeline_completo.fit_transform(xtreino))"
   ]
  }
 ],
 "metadata": {
  "kernelspec": {
   "display_name": "Python 3",
   "language": "python",
   "name": "python3"
  },
  "language_info": {
   "codemirror_mode": {
    "name": "ipython",
    "version": 3
   },
   "file_extension": ".py",
   "mimetype": "text/x-python",
   "name": "python",
   "nbconvert_exporter": "python",
   "pygments_lexer": "ipython3",
   "version": "3.11.9"
  }
 },
 "nbformat": 4,
 "nbformat_minor": 2
}
